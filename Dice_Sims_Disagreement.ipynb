{
 "cells": [
  {
   "cell_type": "markdown",
   "metadata": {},
   "source": [
    "# Dice Game"
   ]
  },
  {
   "cell_type": "code",
   "execution_count": 434,
   "metadata": {},
   "outputs": [],
   "source": [
    "import numpy as np\n",
    "import math\n",
    "import matplotlib.pyplot as plt\n",
    "import random\n",
    "from operator import add\n",
    "from operator import mul\n",
    "import statistics"
   ]
  },
  {
   "cell_type": "code",
   "execution_count": 435,
   "metadata": {},
   "outputs": [],
   "source": [
    "random.seed(a=5,version=2)"
   ]
  },
  {
   "cell_type": "code",
   "execution_count": 436,
   "metadata": {},
   "outputs": [],
   "source": [
    "# Number of dice rolls\n",
    "# Each dice roll is analogous to an \"experiment.\"\n",
    "N = 1000"
   ]
  },
  {
   "cell_type": "code",
   "execution_count": 437,
   "metadata": {},
   "outputs": [],
   "source": [
    "ProbYesA = 5/6\n",
    "ProbYesB = 1/3\n",
    "WhichPlayer = 'A'\n",
    "# The value of WhichPlayer determines which player is \"right.\""
   ]
  },
  {
   "cell_type": "code",
   "execution_count": 438,
   "metadata": {},
   "outputs": [],
   "source": [
    "#The \"errors\" for each player, the E_j in the game writeup\n",
    "ProbEA = 0.7\n",
    "ProbEB = 0.7"
   ]
  },
  {
   "cell_type": "code",
   "execution_count": 439,
   "metadata": {},
   "outputs": [
    {
     "data": {
      "text/plain": [
       "0.6229016948897019"
      ]
     },
     "execution_count": 439,
     "metadata": {},
     "output_type": "execute_result"
    }
   ],
   "source": [
    "random.random()"
   ]
  },
  {
   "cell_type": "code",
   "execution_count": 440,
   "metadata": {},
   "outputs": [],
   "source": [
    "# Make the list of dice rolls.\n",
    "if WhichPlayer == 'A':\n",
    "    dice_rolls_list = random.choices([1,-1],[ProbYesA,1-ProbYesA],k=N)\n",
    "elif WhichPlayer == 'B':\n",
    "    dice_rolls_list = random.choices([1,-1],[ProbYesB,1-ProbYesB],k=N)"
   ]
  },
  {
   "cell_type": "code",
   "execution_count": 441,
   "metadata": {},
   "outputs": [
    {
     "name": "stdout",
     "output_type": "stream",
     "text": [
      "noes = 0.157\n",
      "yeses = 0.843\n"
     ]
    }
   ],
   "source": [
    "# Show the fraction of rolls that were \"no\" and the fraction that were \"yes.\"\n",
    "downs = dice_rolls_list.count(-1)/N\n",
    "print('noes =', downs)\n",
    "ups = dice_rolls_list.count(1)/N\n",
    "print('yeses =',ups)"
   ]
  },
  {
   "cell_type": "code",
   "execution_count": 442,
   "metadata": {},
   "outputs": [
    {
     "data": {
      "text/plain": [
       "1.0"
      ]
     },
     "execution_count": 442,
     "metadata": {},
     "output_type": "execute_result"
    }
   ],
   "source": [
    "ups + downs"
   ]
  },
  {
   "cell_type": "code",
   "execution_count": 443,
   "metadata": {},
   "outputs": [],
   "source": [
    "# For now, I am assuming that each player automatically agrees with the outcome\n",
    "ResolutionA = dice_rolls_list.copy()\n",
    "ResolutionB = dice_rolls_list.copy()"
   ]
  },
  {
   "cell_type": "code",
   "execution_count": 444,
   "metadata": {},
   "outputs": [],
   "source": [
    "#ResolutionA"
   ]
  },
  {
   "cell_type": "code",
   "execution_count": 445,
   "metadata": {},
   "outputs": [],
   "source": [
    "#ResolutionB"
   ]
  },
  {
   "cell_type": "code",
   "execution_count": 446,
   "metadata": {},
   "outputs": [],
   "source": [
    "# Flip each player's resolution in accordance with their E\n",
    "for i in range(0,N):\n",
    "    num = random.random()\n",
    "    if num < ProbEA and ResolutionA[i] < 0:\n",
    "        ResolutionA[i] = -1*ResolutionA[i]"
   ]
  },
  {
   "cell_type": "code",
   "execution_count": 447,
   "metadata": {},
   "outputs": [],
   "source": [
    "# Flip each player's resolution in accordance with their E\n",
    "for i in range(0,N):\n",
    "    num = random.random()\n",
    "    if num < ProbEB and ResolutionA[i] > 0:\n",
    "        ResolutionB[i] = -1*ResolutionB[i]"
   ]
  },
  {
   "cell_type": "code",
   "execution_count": 448,
   "metadata": {},
   "outputs": [],
   "source": [
    "#ResolutionA"
   ]
  },
  {
   "cell_type": "code",
   "execution_count": 449,
   "metadata": {},
   "outputs": [],
   "source": [
    "#ResolutionB"
   ]
  },
  {
   "cell_type": "code",
   "execution_count": 450,
   "metadata": {},
   "outputs": [],
   "source": [
    "Resolution = [ResolutionA,ResolutionB]"
   ]
  },
  {
   "cell_type": "code",
   "execution_count": 451,
   "metadata": {},
   "outputs": [],
   "source": [
    "PredictionsA = []\n",
    "PredictionsB = []\n",
    "\n",
    "for i in range(0,N):\n",
    "    PredictionsA.append(ProbYesA)\n",
    "    PredictionsB.append(ProbYesB)"
   ]
  },
  {
   "cell_type": "code",
   "execution_count": 452,
   "metadata": {},
   "outputs": [],
   "source": [
    "Predictions = []\n",
    "Predictions = [PredictionsA,PredictionsB]\n",
    "\n",
    "#Predictions"
   ]
  },
  {
   "cell_type": "code",
   "execution_count": 453,
   "metadata": {},
   "outputs": [],
   "source": [
    "# A function to calculate the mean resolution: This is V in the draft\n",
    "def resolutions(resA,resB):\n",
    "    result = []\n",
    "    result = list(map(add, resA, resB))\n",
    "    result = [element * (1/2) for element in result]\n",
    "    return result"
   ]
  },
  {
   "cell_type": "code",
   "execution_count": null,
   "metadata": {},
   "outputs": [],
   "source": []
  },
  {
   "cell_type": "code",
   "execution_count": 454,
   "metadata": {},
   "outputs": [],
   "source": [
    "# A function to calculate the outcomes: This is q in the draft\n",
    "def outcome(avres):\n",
    "    result = []\n",
    "    for i in range(0,len(avres)):\n",
    "        if avres[i] > 0:\n",
    "            result.append(1)\n",
    "        elif avres[i] < 0:\n",
    "            result.append(-1) \n",
    "        else: \n",
    "            result.append(0)\n",
    "    return result"
   ]
  },
  {
   "cell_type": "code",
   "execution_count": 455,
   "metadata": {},
   "outputs": [],
   "source": [
    "# Make a list of the mean resolutions V for our particular case.\n",
    "resolutions_list = resolutions(ResolutionA,ResolutionB)\n",
    "\n",
    "# Make a list of the outcomes q for our particular case. \n",
    "outcomes_list = outcome(resolutions_list)"
   ]
  },
  {
   "cell_type": "code",
   "execution_count": 456,
   "metadata": {},
   "outputs": [],
   "source": [
    "#resolutions_list"
   ]
  },
  {
   "cell_type": "code",
   "execution_count": 457,
   "metadata": {},
   "outputs": [],
   "source": [
    "#outcomes_list"
   ]
  },
  {
   "cell_type": "code",
   "execution_count": 458,
   "metadata": {},
   "outputs": [],
   "source": [
    "#print(outcomes_list)\n",
    "#print(resolutions_list)"
   ]
  },
  {
   "cell_type": "code",
   "execution_count": 459,
   "metadata": {},
   "outputs": [],
   "source": [
    "# A function to calculate the suprisals for a user given a list of outcomes. s_{i,j} or Eq.(3) in the draft.\n",
    "def surprisals(probs,outcms):\n",
    "    result = []\n",
    "    for i in range(len(outcms)):\n",
    "        if outcms[i] == 1:\n",
    "            result.append(-math.log(probs[i]))\n",
    "        elif outcms[i] == -1:\n",
    "            result.append(-math.log(1-probs[i]))\n",
    "        elif outcms[i] == 0:\n",
    "            result.append(0)\n",
    "        else:\n",
    "            result.append('nan')\n",
    "    return result"
   ]
  },
  {
   "cell_type": "code",
   "execution_count": 460,
   "metadata": {},
   "outputs": [],
   "source": [
    "# A function to calculate the mean of the two player's surprisals. Eq(4) of the draft. \n",
    "def mean_surps(surpsA,surpsB):\n",
    "    result = []\n",
    "    for i in range(len(surpsA)):\n",
    "        result.append(statistics.mean([surpsA[i],surpsB[i]]))\n",
    "    return result "
   ]
  },
  {
   "cell_type": "code",
   "execution_count": 461,
   "metadata": {},
   "outputs": [],
   "source": [
    "# Now make lists of the surprisals for each of the two players given the outcome list\n",
    "surprisalsA = surprisals(PredictionsA,outcomes_list)\n",
    "surprisalsB = surprisals(PredictionsB,outcomes_list)\n",
    "#print(surprisalsA)\n",
    "#print(surprisalsB)"
   ]
  },
  {
   "cell_type": "code",
   "execution_count": 462,
   "metadata": {},
   "outputs": [],
   "source": [
    "# And calculate the mean of the two player's surprisals\n",
    "mean_surprisals = mean_surps(surprisalsA,surprisalsB)"
   ]
  },
  {
   "cell_type": "code",
   "execution_count": 463,
   "metadata": {},
   "outputs": [],
   "source": [
    "# A function to get the mean of the squared surprisals for each player. Eq.(5) of the draft. \n",
    "def mean_surps_sqrd(surpsA,surpsB):\n",
    "    result = []\n",
    "    for i in range(len(surpsA)):\n",
    "        result.append(statistics.mean([pow(surpsA[i],2),pow(surpsB[i],2)]))\n",
    "    return result "
   ]
  },
  {
   "cell_type": "code",
   "execution_count": 464,
   "metadata": {},
   "outputs": [],
   "source": [
    "# A function to get the mean of the spread, Delta s, (the standard deviation). Eq.(6) of the draft. \n",
    "def spread(surpsA,surpsB):\n",
    "    result = []\n",
    "    res = 0\n",
    "    for i in range(len(surpsA)):\n",
    "        res = math.sqrt(mean_surprisals_squared[i]-pow(mean_surprisals[i],2))\n",
    "        result.append(res)\n",
    "    return result"
   ]
  },
  {
   "cell_type": "code",
   "execution_count": 465,
   "metadata": {},
   "outputs": [],
   "source": [
    "# A function to make a list of \"big surprises\" for each question given a list of mean surprisals and their spread. \n",
    "# Eq.(7) of the draft. \n",
    "def bigsurprise(means,spreads):\n",
    "    result = []\n",
    "    res = 0\n",
    "    for i in range(len(means)):\n",
    "        res = means[i]+spreads[i]\n",
    "        result.append(res)\n",
    "    return result"
   ]
  },
  {
   "cell_type": "code",
   "execution_count": 466,
   "metadata": {},
   "outputs": [],
   "source": [
    "# Make a list of mean surprisals squared for our particular case.\n",
    "mean_surprisals_squared = mean_surps_sqrd(surprisalsA,surprisalsB)"
   ]
  },
  {
   "cell_type": "code",
   "execution_count": 467,
   "metadata": {},
   "outputs": [],
   "source": [
    "# Make a list of standard deviations for our particular case.\n",
    "the_spreads = spread(surprisalsA,surprisalsB)"
   ]
  },
  {
   "cell_type": "code",
   "execution_count": 468,
   "metadata": {},
   "outputs": [],
   "source": [
    "# Make a list of big surprises for our particular case.\n",
    "big_surprises = bigsurprise(mean_surprisals,the_spreads)"
   ]
  },
  {
   "cell_type": "code",
   "execution_count": 469,
   "metadata": {},
   "outputs": [],
   "source": [
    "# Make a list of rewards for each player recieves for EACH roll, \n",
    "# given their surprisals, the mean resolutions (reses), \n",
    "# and the standard deviations\n",
    "def rewards(surpsA,surpsB,bigs,reses,spreads):\n",
    "    resultsA = []\n",
    "    resultsB = []\n",
    "    for i in range(len(surpsA)):\n",
    "        resultsA.append(abs(reses[i])*spreads[i]*(bigs[i]-surpsA[i]))\n",
    "        resultsB.append(abs(reses[i])*spreads[i]*(bigs[i]-surpsB[i]))\n",
    "    return resultsA,resultsB"
   ]
  },
  {
   "cell_type": "code",
   "execution_count": 470,
   "metadata": {},
   "outputs": [],
   "source": [
    "# Make lists of the reward each player receives on each question.\n",
    "final_rewardA, final_rewardB = rewards(surprisalsA,surprisalsB,big_surprises,resolutions_list,the_spreads)"
   ]
  },
  {
   "cell_type": "code",
   "execution_count": 471,
   "metadata": {},
   "outputs": [],
   "source": [
    "# Make a list of the TOTAL reward player A has accumulated by each roll\n",
    "totrewardA = []\n",
    "totrewardA.append(final_rewardA[0])\n",
    "for i in range(len(final_rewardA)-1):\n",
    "    totrewardA.append(final_rewardA[i+1]+totrewardA[i])"
   ]
  },
  {
   "cell_type": "code",
   "execution_count": 472,
   "metadata": {},
   "outputs": [],
   "source": [
    "# Make a list of the TOTAL reward player A has accumulated by each roll\n",
    "totrewardB = []\n",
    "totrewardB.append(final_rewardB[0])\n",
    "for i in range(len(final_rewardB)-1):\n",
    "    totrewardB.append(final_rewardB[i+1]+totrewardB[i])"
   ]
  },
  {
   "cell_type": "code",
   "execution_count": 473,
   "metadata": {},
   "outputs": [],
   "source": [
    "#totrewardA"
   ]
  },
  {
   "cell_type": "code",
   "execution_count": 474,
   "metadata": {},
   "outputs": [],
   "source": [
    "#totrewardB"
   ]
  },
  {
   "cell_type": "code",
   "execution_count": 475,
   "metadata": {},
   "outputs": [
    {
     "data": {
      "text/plain": [
       "<matplotlib.legend.Legend at 0x7fc830268c40>"
      ]
     },
     "execution_count": 475,
     "metadata": {},
     "output_type": "execute_result"
    },
    {
     "data": {
      "image/png": "[encoded data removed]",
      "text/plain": [
       "<Figure size 432x288 with 1 Axes>"
      ]
     },
     "metadata": {
      "needs_background": "light"
     },
     "output_type": "display_data"
    }
   ],
   "source": [
    "plt.plot(totrewardA,markersize=.8,c='b')\n",
    "plt.plot(totrewardB,markersize=.8,c='r')\n",
    "plt.xlabel('Question #')\n",
    "plt.ylabel('Total Reward')\n",
    "plt.xlim([-1, N])\n",
    "plt.ylim([0,400])\n",
    "plt.legend(['Player A','Player B'])"
   ]
  },
  {
   "cell_type": "code",
   "execution_count": null,
   "metadata": {},
   "outputs": [],
   "source": []
  }
 ],
 "metadata": {
  "kernelspec": {
   "display_name": "Python 3.10.4 64-bit",
   "language": "python",
   "name": "python3"
  },
  "language_info": {
   "codemirror_mode": {
    "name": "ipython",
    "version": 3
   },
   "file_extension": ".py",
   "mimetype": "text/x-python",
   "name": "python",
   "nbconvert_exporter": "python",
   "pygments_lexer": "ipython3",
   "version": "3.10.4"
  },
  "vscode": {
   "interpreter": {
    "hash": "1883cbe3847a20784f6a859e9023809d95d38d494d0f0b72462383d6b3527ee4"
   }
  }
 },
 "nbformat": 4,
 "nbformat_minor": 4
}
